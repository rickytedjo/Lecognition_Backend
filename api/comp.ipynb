{
 "cells": [
  {
   "cell_type": "code",
   "execution_count": 1,
   "metadata": {},
   "outputs": [],
   "source": [
    "import numpy as np\n",
    "import cv2 as cv\n",
    "import matplotlib.pyplot as plt"
   ]
  },
  {
   "cell_type": "code",
   "execution_count": 2,
   "metadata": {},
   "outputs": [],
   "source": [
    "def pil_to_cv(pil_image):\n",
    "    open_cv_image = np.array(pil_image)\n",
    "    return cv.cvtColor(open_cv_image, cv.COLOR_RGB2BGR)"
   ]
  },
  {
   "cell_type": "code",
   "execution_count": 3,
   "metadata": {},
   "outputs": [],
   "source": [
    "def match_template_new(img, template, threshold=0.5):\n",
    "    image = pil_to_cv(img)\n",
    "    template_cv = pil_to_cv(template)\n",
    "\n",
    "    image_gray = cv.cvtColor(image, cv.COLOR_BGR2GRAY)\n",
    "    template_gray = cv.cvtColor(template_cv, cv.COLOR_BGR2GRAY)\n",
    "\n",
    "    h, w = template_gray.shape\n",
    "    image_plot = image.copy()\n",
    "    rectangles = []\n",
    "\n",
    "    # Template matching with limited scale\n",
    "    scales = [0.6,0.8, 0.9, 1.0, 1.1]\n",
    "    for scale in scales:\n",
    "        image_gray = cv.resize(image_gray, (int(w * scale), int(h * scale)))\n",
    "        resized_template = cv.resize(template_gray, (int(w * scale), int(h * scale)))\n",
    "        h_resized, w_resized = resized_template.shape\n",
    "\n",
    "        res = cv.matchTemplate(image_gray, resized_template, cv.TM_CCOEFF_NORMED)\n",
    "        res_copy = res.copy()\n",
    "\n",
    "        # Search threshold\n",
    "        while True:\n",
    "            min_val, max_val, min_loc, max_loc = cv.minMaxLoc(res_copy)\n",
    "            if max_val < threshold:\n",
    "                break\n",
    "\n",
    "            rectangles.append([max_loc[0], max_loc[1], w_resized, h_resized])\n",
    "            res_copy[max_loc[1]:max_loc[1] + h_resized, max_loc[0]:max_loc[0] + w_resized] = 0\n",
    "\n",
    "    rectangles, _ = cv.groupRectangles(rectangles, groupThreshold=1, eps=0.3)\n",
    "\n",
    "    # Print rectangle\n",
    "    cropped_image = None\n",
    "    for (x, y, w, h) in rectangles:\n",
    "        cv.rectangle(image_plot, (x, y), (x + w, y + h), (0, 255, 255), 2)\n",
    "        # Crop the first detected rectangle\n",
    "        if cropped_image is None:\n",
    "            cropped_image = image[y:y+h, x:x+w]\n",
    "        else:\n",
    "            cropped_image = image[y:y+h, x:x+w]\n",
    "\n",
    "    # Convert RGB\n",
    "    image_rgb = cv.cvtColor(image_plot, cv.COLOR_BGR2RGB)\n",
    "\n",
    "    # Display images\n",
    "    fig, ax = plt.subplots(1, 4, figsize=(16, 4))\n",
    "\n",
    "    # Input image\n",
    "    ax[0].imshow(cv.cvtColor(image, cv.COLOR_BGR2RGB))\n",
    "    ax[0].set_title('Input Image')\n",
    "    ax[0].axis('off')\n",
    "\n",
    "    # Template image\n",
    "    ax[1].imshow(template_gray, cmap='gray')\n",
    "    ax[1].set_title('Template Image')\n",
    "    ax[1].axis('off')\n",
    "\n",
    "    # Result image\n",
    "    ax[2].imshow(image_rgb)\n",
    "    ax[2].set_title('Result')\n",
    "    ax[2].axis('off')\n",
    "\n",
    "    # Cropped image\n",
    "    if cropped_image is not None:\n",
    "        cropped_rgb = cv.cvtColor(cropped_image, cv.COLOR_BGR2RGB)\n",
    "        ax[3].imshow(cropped_rgb)\n",
    "        ax[3].set_title('Cropped Match')\n",
    "        ax[3].axis('off')\n",
    "    else:\n",
    "        ax[3].imshow(np.zeros((50, 50, 3), dtype=np.uint8))  # Display a blank image if no match found\n",
    "        ax[3].set_title('No Match Found')\n",
    "        ax[3].axis('off')\n",
    "\n",
    "    plt.tight_layout()\n",
    "    plt.show()"
   ]
  },
  {
   "cell_type": "code",
   "execution_count": 7,
   "metadata": {},
   "outputs": [],
   "source": [
    "import os\n",
    "def match(image, threshold=0.5):\n",
    "    image = cv.cvtColor(image, cv.COLOR_RGB2BGR)\n",
    "    image_gray = cv.cvtColor(image, cv.COLOR_BGR2GRAY)\n",
    "    \n",
    "    templates = os.listdir('../asset/comparator')\n",
    "    for template in templates:\n",
    "        template_img = cv.imread('../asset/comparator/' + str(template))\n",
    "        template_img = cv.cvtColor(template_img,cv.COLOR_RGB2BGR)\n",
    "        template_gray = cv.cvtColor(template_img, cv.COLOR_BGR2GRAY)\n",
    "\n",
    "        h, w = template_gray.shape\n",
    "        for i in range(0,3):\n",
    "            image_gray = cv.resize(image_gray, (w, h))\n",
    "            resized_template = cv.resize(template_gray, (w, h))\n",
    "\n",
    "        \n",
    "            res = cv.matchTemplate(image_gray, resized_template, cv.TM_CCOEFF_NORMED)\n",
    "            res_copy = res.copy()\n",
    "\n",
    "            min_val, max_val, min_loc, max_loc = cv.minMaxLoc(res_copy)\n",
    "            # Search threshold\n",
    "            \n",
    "            if max_val >= threshold:\n",
    "                return True\n",
    "            \n",
    "            resized_template = cv.rotate(resized_template,cv.ROTATE_90_CLOCKWISE)\n",
    "\n",
    "    return False\n"
   ]
  },
  {
   "cell_type": "code",
   "execution_count": 8,
   "metadata": {},
   "outputs": [
    {
     "name": "stdout",
     "output_type": "stream",
     "text": [
      "True\n"
     ]
    }
   ],
   "source": [
    "from PIL import Image\n",
    "\n",
    "img = cv.imread('../dataset\\Cutting Weevil/20211011_160853 (Custom) (Custom).jpg')\n",
    "\n",
    "bil = match(img)\n",
    "print(bil)"
   ]
  },
  {
   "cell_type": "code",
   "execution_count": null,
   "metadata": {},
   "outputs": [],
   "source": [
    "img = cv.imread('..\\IMG_20211106_161141 (Custom).jpg')\n",
    "\n",
    "bil = match(img)\n",
    "print(bil)"
   ]
  }
 ],
 "metadata": {
  "kernelspec": {
   "display_name": "Python 3",
   "language": "python",
   "name": "python3"
  },
  "language_info": {
   "codemirror_mode": {
    "name": "ipython",
    "version": 3
   },
   "file_extension": ".py",
   "mimetype": "text/x-python",
   "name": "python",
   "nbconvert_exporter": "python",
   "pygments_lexer": "ipython3",
   "version": "3.11.0"
  }
 },
 "nbformat": 4,
 "nbformat_minor": 2
}
